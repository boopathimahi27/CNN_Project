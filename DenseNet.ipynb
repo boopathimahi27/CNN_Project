{
  "nbformat": 4,
  "nbformat_minor": 0,
  "metadata": {
    "colab": {
      "name": "DenseNet.ipynb",
      "provenance": [],
      "collapsed_sections": [],
      "machine_shape": "hm"
    },
    "kernelspec": {
      "name": "python3",
      "display_name": "Python 3"
    },
    "language_info": {
      "name": "python"
    },
    "accelerator": "TPU"
  },
  "cells": [
    {
      "cell_type": "code",
      "metadata": {
        "id": "wlsNZCSRQtze"
      },
      "source": [
        "#importing the libraries\n",
        "import os\n",
        "import cv2\n",
        "import matplotlib.pyplot as plt"
      ],
      "execution_count": null,
      "outputs": []
    },
    {
      "cell_type": "code",
      "metadata": {
        "id": "aRTfdDM-QyyT"
      },
      "source": [
        "import os\n",
        "IS_COLAB_BACKEND = 'COLAB_GPU' in os.environ  # this is always set on Colab, the value is 0 or 1 depending on GPU presence\n",
        "if IS_COLAB_BACKEND:\n",
        "  from google.colab import auth\n",
        "  # Authenticates the Colab machine and also the TPU using your\n",
        "  # credentials so that they can access your private GCS buckets.\n",
        "  auth.authenticate_user()"
      ],
      "execution_count": null,
      "outputs": []
    },
    {
      "cell_type": "code",
      "metadata": {
        "colab": {
          "base_uri": "https://localhost:8080/"
        },
        "id": "rRZ-9b8XHC4I",
        "outputId": "94ce5725-e53f-4731-bc4c-2d334cb1d90f"
      },
      "source": [
        "#checking we are getting access to TPU or not\n",
        "\n",
        "%tensorflow_version 2.x\n",
        "import tensorflow as tf\n",
        "print(\"Tensorflow version \" + tf.__version__)\n",
        "\n",
        "try:\n",
        "  tpu = tf.distribute.cluster_resolver.TPUClusterResolver()  # TPU detection\n",
        "  print('Running on TPU ', tpu.cluster_spec().as_dict()['worker'])\n",
        "except ValueError:\n",
        "  raise BaseException('ERROR: Not connected to a TPU runtime; please see the previous cell in this notebook for instructions!')\n",
        "\n",
        "tf.config.experimental_connect_to_cluster(tpu)\n",
        "tf.tpu.experimental.initialize_tpu_system(tpu)\n",
        "tpu_strategy = tf.distribute.experimental.TPUStrategy(tpu)"
      ],
      "execution_count": null,
      "outputs": [
        {
          "output_type": "stream",
          "name": "stdout",
          "text": [
            "Tensorflow version 2.6.0\n",
            "Running on TPU  ['10.126.40.98:8470']\n",
            "INFO:tensorflow:Clearing out eager caches\n"
          ]
        },
        {
          "output_type": "stream",
          "name": "stderr",
          "text": [
            "INFO:tensorflow:Clearing out eager caches\n"
          ]
        },
        {
          "output_type": "stream",
          "name": "stdout",
          "text": [
            "WARNING:tensorflow:TPU system grpc://10.126.40.98:8470 has already been initialized. Reinitializing the TPU can cause previously created variables on TPU to be lost.\n"
          ]
        },
        {
          "output_type": "stream",
          "name": "stderr",
          "text": [
            "WARNING:tensorflow:TPU system grpc://10.126.40.98:8470 has already been initialized. Reinitializing the TPU can cause previously created variables on TPU to be lost.\n"
          ]
        },
        {
          "output_type": "stream",
          "name": "stdout",
          "text": [
            "INFO:tensorflow:Initializing the TPU system: grpc://10.126.40.98:8470\n"
          ]
        },
        {
          "output_type": "stream",
          "name": "stderr",
          "text": [
            "INFO:tensorflow:Initializing the TPU system: grpc://10.126.40.98:8470\n"
          ]
        },
        {
          "output_type": "stream",
          "name": "stdout",
          "text": [
            "INFO:tensorflow:Finished initializing TPU system.\n"
          ]
        },
        {
          "output_type": "stream",
          "name": "stderr",
          "text": [
            "INFO:tensorflow:Finished initializing TPU system.\n",
            "WARNING:absl:`tf.distribute.experimental.TPUStrategy` is deprecated, please use  the non experimental symbol `tf.distribute.TPUStrategy` instead.\n"
          ]
        },
        {
          "output_type": "stream",
          "name": "stdout",
          "text": [
            "INFO:tensorflow:Found TPU system:\n"
          ]
        },
        {
          "output_type": "stream",
          "name": "stderr",
          "text": [
            "INFO:tensorflow:Found TPU system:\n"
          ]
        },
        {
          "output_type": "stream",
          "name": "stdout",
          "text": [
            "INFO:tensorflow:*** Num TPU Cores: 8\n"
          ]
        },
        {
          "output_type": "stream",
          "name": "stderr",
          "text": [
            "INFO:tensorflow:*** Num TPU Cores: 8\n"
          ]
        },
        {
          "output_type": "stream",
          "name": "stdout",
          "text": [
            "INFO:tensorflow:*** Num TPU Workers: 1\n"
          ]
        },
        {
          "output_type": "stream",
          "name": "stderr",
          "text": [
            "INFO:tensorflow:*** Num TPU Workers: 1\n"
          ]
        },
        {
          "output_type": "stream",
          "name": "stdout",
          "text": [
            "INFO:tensorflow:*** Num TPU Cores Per Worker: 8\n"
          ]
        },
        {
          "output_type": "stream",
          "name": "stderr",
          "text": [
            "INFO:tensorflow:*** Num TPU Cores Per Worker: 8\n"
          ]
        },
        {
          "output_type": "stream",
          "name": "stdout",
          "text": [
            "INFO:tensorflow:*** Available Device: _DeviceAttributes(/job:localhost/replica:0/task:0/device:CPU:0, CPU, 0, 0)\n"
          ]
        },
        {
          "output_type": "stream",
          "name": "stderr",
          "text": [
            "INFO:tensorflow:*** Available Device: _DeviceAttributes(/job:localhost/replica:0/task:0/device:CPU:0, CPU, 0, 0)\n"
          ]
        },
        {
          "output_type": "stream",
          "name": "stdout",
          "text": [
            "INFO:tensorflow:*** Available Device: _DeviceAttributes(/job:worker/replica:0/task:0/device:CPU:0, CPU, 0, 0)\n"
          ]
        },
        {
          "output_type": "stream",
          "name": "stderr",
          "text": [
            "INFO:tensorflow:*** Available Device: _DeviceAttributes(/job:worker/replica:0/task:0/device:CPU:0, CPU, 0, 0)\n"
          ]
        },
        {
          "output_type": "stream",
          "name": "stdout",
          "text": [
            "INFO:tensorflow:*** Available Device: _DeviceAttributes(/job:worker/replica:0/task:0/device:TPU:0, TPU, 0, 0)\n"
          ]
        },
        {
          "output_type": "stream",
          "name": "stderr",
          "text": [
            "INFO:tensorflow:*** Available Device: _DeviceAttributes(/job:worker/replica:0/task:0/device:TPU:0, TPU, 0, 0)\n"
          ]
        },
        {
          "output_type": "stream",
          "name": "stdout",
          "text": [
            "INFO:tensorflow:*** Available Device: _DeviceAttributes(/job:worker/replica:0/task:0/device:TPU:1, TPU, 0, 0)\n"
          ]
        },
        {
          "output_type": "stream",
          "name": "stderr",
          "text": [
            "INFO:tensorflow:*** Available Device: _DeviceAttributes(/job:worker/replica:0/task:0/device:TPU:1, TPU, 0, 0)\n"
          ]
        },
        {
          "output_type": "stream",
          "name": "stdout",
          "text": [
            "INFO:tensorflow:*** Available Device: _DeviceAttributes(/job:worker/replica:0/task:0/device:TPU:2, TPU, 0, 0)\n"
          ]
        },
        {
          "output_type": "stream",
          "name": "stderr",
          "text": [
            "INFO:tensorflow:*** Available Device: _DeviceAttributes(/job:worker/replica:0/task:0/device:TPU:2, TPU, 0, 0)\n"
          ]
        },
        {
          "output_type": "stream",
          "name": "stdout",
          "text": [
            "INFO:tensorflow:*** Available Device: _DeviceAttributes(/job:worker/replica:0/task:0/device:TPU:3, TPU, 0, 0)\n"
          ]
        },
        {
          "output_type": "stream",
          "name": "stderr",
          "text": [
            "INFO:tensorflow:*** Available Device: _DeviceAttributes(/job:worker/replica:0/task:0/device:TPU:3, TPU, 0, 0)\n"
          ]
        },
        {
          "output_type": "stream",
          "name": "stdout",
          "text": [
            "INFO:tensorflow:*** Available Device: _DeviceAttributes(/job:worker/replica:0/task:0/device:TPU:4, TPU, 0, 0)\n"
          ]
        },
        {
          "output_type": "stream",
          "name": "stderr",
          "text": [
            "INFO:tensorflow:*** Available Device: _DeviceAttributes(/job:worker/replica:0/task:0/device:TPU:4, TPU, 0, 0)\n"
          ]
        },
        {
          "output_type": "stream",
          "name": "stdout",
          "text": [
            "INFO:tensorflow:*** Available Device: _DeviceAttributes(/job:worker/replica:0/task:0/device:TPU:5, TPU, 0, 0)\n"
          ]
        },
        {
          "output_type": "stream",
          "name": "stderr",
          "text": [
            "INFO:tensorflow:*** Available Device: _DeviceAttributes(/job:worker/replica:0/task:0/device:TPU:5, TPU, 0, 0)\n"
          ]
        },
        {
          "output_type": "stream",
          "name": "stdout",
          "text": [
            "INFO:tensorflow:*** Available Device: _DeviceAttributes(/job:worker/replica:0/task:0/device:TPU:6, TPU, 0, 0)\n"
          ]
        },
        {
          "output_type": "stream",
          "name": "stderr",
          "text": [
            "INFO:tensorflow:*** Available Device: _DeviceAttributes(/job:worker/replica:0/task:0/device:TPU:6, TPU, 0, 0)\n"
          ]
        },
        {
          "output_type": "stream",
          "name": "stdout",
          "text": [
            "INFO:tensorflow:*** Available Device: _DeviceAttributes(/job:worker/replica:0/task:0/device:TPU:7, TPU, 0, 0)\n"
          ]
        },
        {
          "output_type": "stream",
          "name": "stderr",
          "text": [
            "INFO:tensorflow:*** Available Device: _DeviceAttributes(/job:worker/replica:0/task:0/device:TPU:7, TPU, 0, 0)\n"
          ]
        },
        {
          "output_type": "stream",
          "name": "stdout",
          "text": [
            "INFO:tensorflow:*** Available Device: _DeviceAttributes(/job:worker/replica:0/task:0/device:TPU_SYSTEM:0, TPU_SYSTEM, 0, 0)\n"
          ]
        },
        {
          "output_type": "stream",
          "name": "stderr",
          "text": [
            "INFO:tensorflow:*** Available Device: _DeviceAttributes(/job:worker/replica:0/task:0/device:TPU_SYSTEM:0, TPU_SYSTEM, 0, 0)\n"
          ]
        },
        {
          "output_type": "stream",
          "name": "stdout",
          "text": [
            "INFO:tensorflow:*** Available Device: _DeviceAttributes(/job:worker/replica:0/task:0/device:XLA_CPU:0, XLA_CPU, 0, 0)\n"
          ]
        },
        {
          "output_type": "stream",
          "name": "stderr",
          "text": [
            "INFO:tensorflow:*** Available Device: _DeviceAttributes(/job:worker/replica:0/task:0/device:XLA_CPU:0, XLA_CPU, 0, 0)\n"
          ]
        }
      ]
    },
    {
      "cell_type": "code",
      "metadata": {
        "colab": {
          "base_uri": "https://localhost:8080/"
        },
        "id": "DzBDG2tBRAW6",
        "outputId": "d2289d92-898b-4781-f804-50e599a5f3a3"
      },
      "source": [
        "#mounting the google drive\n",
        "from google.colab import drive\n",
        "\n",
        "drive.mount('/content/drive')"
      ],
      "execution_count": null,
      "outputs": [
        {
          "output_type": "stream",
          "name": "stdout",
          "text": [
            "Drive already mounted at /content/drive; to attempt to forcibly remount, call drive.mount(\"/content/drive\", force_remount=True).\n"
          ]
        }
      ]
    },
    {
      "cell_type": "code",
      "metadata": {
        "colab": {
          "base_uri": "https://localhost:8080/"
        },
        "id": "-fzf03mnRLwb",
        "outputId": "ea228d25-0a98-4b54-f273-35fab1162a1d"
      },
      "source": [
        "#importing the dataset\n",
        "path = \"/content/drive/MyDrive//BreakHis_40x\"\n",
        "types = os.listdir(path)\n",
        "print(types)\n",
        "x = []\n",
        "y = []"
      ],
      "execution_count": null,
      "outputs": [
        {
          "output_type": "stream",
          "name": "stdout",
          "text": [
            "['Malignant', 'Benign']\n"
          ]
        }
      ]
    },
    {
      "cell_type": "code",
      "metadata": {
        "id": "mKgultOfRCwy"
      },
      "source": [
        "# Image pre-processing:\n",
        " \n",
        "for file in types:\n",
        "    typ= os.listdir(path+'//'+file)\n",
        "    for image in typ[:]:\n",
        "        image1 = cv2.imread(path+'//'+file+'//'+image)\n",
        "        image1=cv2.resize(image1,(224,224))\n",
        "        image1 = image1/255.0\n",
        "        x.append(image1) \n",
        "        y.append(file)\n"
      ],
      "execution_count": null,
      "outputs": []
    },
    {
      "cell_type": "code",
      "metadata": {
        "id": "9JljM5vjRmJE"
      },
      "source": [
        "from sklearn.model_selection import train_test_split\n",
        "X_train, X_test, y_train, y_test = train_test_split(x, y, test_size=0.2, random_state=1)\n",
        "X_train, X_val, y_train, y_val = train_test_split(X_train, y_train, test_size=0.25, random_state=1) # 0.25 x 0.8 = 0.2\n",
        "\n",
        "from sklearn.preprocessing import LabelEncoder\n",
        "L = LabelEncoder()\n",
        "y_train = L.fit_transform(y_train)\n",
        "y_test = L.fit_transform(y_test)\n",
        "y_val=L.fit_transform(y_val)"
      ],
      "execution_count": null,
      "outputs": []
    },
    {
      "cell_type": "code",
      "metadata": {
        "id": "7RL5G1FBRrE6"
      },
      "source": [
        "#import the necessary libraries to build a necessary model\n",
        "from tensorflow import keras\n",
        "import tensorflow as tf\n",
        "from tensorflow.keras.layers import Input, Conv2D, BatchNormalization, Dense\n",
        "from tensorflow.keras.layers import AvgPool2D, GlobalAveragePooling2D, MaxPool2D\n",
        "from tensorflow.keras.models import Model\n",
        "from tensorflow.keras.layers import ReLU, concatenate\n",
        "import tensorflow.keras.backend as K\n",
        "from keras.optimizers import *\n",
        "import numpy as np"
      ],
      "execution_count": null,
      "outputs": []
    },
    {
      "cell_type": "code",
      "metadata": {
        "id": "5xcnxVWjRuPk"
      },
      "source": [
        "#creating a densenet model\n",
        "def densenet(input_shape, n_classes, filters = 32):\n",
        "    def bn_rl_conv(x,filters,kernel=1,strides=1):\n",
        "        x = BatchNormalization()(x)\n",
        "        x = ReLU()(x)\n",
        "        x = Conv2D(filters, kernel, strides=strides,padding = 'same')(x)\n",
        "        return x\n",
        "    def dense_block(x, repetition): \n",
        "        for _ in range(repetition):\n",
        "            y1 = bn_rl_conv(x, 4*filters)\n",
        "            y1 = bn_rl_conv(y1, filters, 3)\n",
        "            x = concatenate([y1,x])\n",
        "        return x \n",
        "    def transition_layer(x):\n",
        "        x = bn_rl_conv(x, K.int_shape(x)[-1] //2 )\n",
        "        x = AvgPool2D(2, strides = 2, padding = 'same')(x)\n",
        "        return x \n",
        "    input = Input (input_shape)\n",
        "    x = Conv2D(64, 7, strides = 2, padding = 'same')(input)\n",
        "    x = MaxPool2D(3, strides = 2, padding = 'same')(x)\n",
        "    for repetition in [16]:   \n",
        "        d = dense_block(x, repetition)\n",
        "        x = transition_layer(d)\n",
        "    x = GlobalAveragePooling2D()(d)\n",
        "    output = Dense(n_classes, activation = 'softmax')(x)  \n",
        "    model = Model(input, output)\n",
        "    return model"
      ],
      "execution_count": null,
      "outputs": []
    },
    {
      "cell_type": "code",
      "metadata": {
        "id": "a_r7m8C8RwuT"
      },
      "source": [
        "#giving the input to the model\n",
        "input_shape = 224, 224, 3\n",
        "n_classes = 2\n",
        "model = densenet(input_shape,n_classes)"
      ],
      "execution_count": null,
      "outputs": []
    },
    {
      "cell_type": "code",
      "metadata": {
        "id": "v8-UfSyxRzYq",
        "colab": {
          "base_uri": "https://localhost:8080/"
        },
        "outputId": "790a6e76-5baf-4d90-ea9e-1d24347a5205"
      },
      "source": [
        "# compiling the model\n",
        "model.compile(optimizer=keras.optimizers.Adam(lr=1e-5), loss=tf.keras.losses.SparseCategoricalCrossentropy(from_logits=True), metrics=['accuracy'])"
      ],
      "execution_count": null,
      "outputs": [
        {
          "output_type": "stream",
          "name": "stderr",
          "text": [
            "/usr/local/lib/python3.7/dist-packages/keras/optimizer_v2/optimizer_v2.py:356: UserWarning: The `lr` argument is deprecated, use `learning_rate` instead.\n",
            "  \"The `lr` argument is deprecated, use `learning_rate` instead.\")\n"
          ]
        }
      ]
    },
    {
      "cell_type": "code",
      "metadata": {
        "id": "xFMgDNsCR8Cq",
        "colab": {
          "base_uri": "https://localhost:8080/"
        },
        "outputId": "09c8db87-28e8-4755-c142-c4bec5907804"
      },
      "source": [
        "#fitting the model\n",
        "history=model.fit(np.array(X_train),y_train,epochs=20,validation_data=(np.array(X_val),y_val),batch_size=256)"
      ],
      "execution_count": null,
      "outputs": [
        {
          "output_type": "stream",
          "name": "stdout",
          "text": [
            "Epoch 1/20\n",
            "5/5 [==============================] - 147s 28s/step - loss: 0.5329 - accuracy: 0.7272 - val_loss: 0.6618 - val_accuracy: 0.6456\n",
            "Epoch 2/20\n",
            "5/5 [==============================] - 140s 28s/step - loss: 0.5127 - accuracy: 0.7542 - val_loss: 0.6585 - val_accuracy: 0.6456\n",
            "Epoch 3/20\n",
            "5/5 [==============================] - 140s 28s/step - loss: 0.4961 - accuracy: 0.7745 - val_loss: 0.6548 - val_accuracy: 0.6456\n",
            "Epoch 4/20\n",
            "5/5 [==============================] - 140s 28s/step - loss: 0.4856 - accuracy: 0.7922 - val_loss: 0.6519 - val_accuracy: 0.6456\n",
            "Epoch 5/20\n",
            "5/5 [==============================] - 140s 28s/step - loss: 0.4677 - accuracy: 0.8074 - val_loss: 0.6503 - val_accuracy: 0.6456\n",
            "Epoch 6/20\n",
            "5/5 [==============================] - 140s 28s/step - loss: 0.4578 - accuracy: 0.8108 - val_loss: 0.6505 - val_accuracy: 0.6456\n",
            "Epoch 7/20\n",
            "5/5 [==============================] - 139s 28s/step - loss: 0.4465 - accuracy: 0.8176 - val_loss: 0.6514 - val_accuracy: 0.6456\n",
            "Epoch 8/20\n",
            "5/5 [==============================] - 140s 28s/step - loss: 0.4375 - accuracy: 0.8167 - val_loss: 0.6523 - val_accuracy: 0.6456\n",
            "Epoch 9/20\n",
            "5/5 [==============================] - 139s 28s/step - loss: 0.4281 - accuracy: 0.8184 - val_loss: 0.6547 - val_accuracy: 0.6456\n",
            "Epoch 10/20\n",
            "5/5 [==============================] - 140s 28s/step - loss: 0.4218 - accuracy: 0.8193 - val_loss: 0.6587 - val_accuracy: 0.6456\n",
            "Epoch 11/20\n",
            "5/5 [==============================] - 140s 28s/step - loss: 0.4130 - accuracy: 0.8294 - val_loss: 0.6650 - val_accuracy: 0.6456\n",
            "Epoch 12/20\n",
            "5/5 [==============================] - 140s 28s/step - loss: 0.4047 - accuracy: 0.8235 - val_loss: 0.6711 - val_accuracy: 0.6456\n",
            "Epoch 13/20\n",
            "5/5 [==============================] - 141s 28s/step - loss: 0.3998 - accuracy: 0.8319 - val_loss: 0.6804 - val_accuracy: 0.6456\n",
            "Epoch 14/20\n",
            "5/5 [==============================] - 142s 28s/step - loss: 0.3971 - accuracy: 0.8294 - val_loss: 0.6918 - val_accuracy: 0.6456\n",
            "Epoch 15/20\n",
            "5/5 [==============================] - 142s 28s/step - loss: 0.3921 - accuracy: 0.8302 - val_loss: 0.7080 - val_accuracy: 0.6456\n",
            "Epoch 16/20\n",
            "5/5 [==============================] - 142s 28s/step - loss: 0.3899 - accuracy: 0.8336 - val_loss: 0.7257 - val_accuracy: 0.6456\n",
            "Epoch 17/20\n",
            "5/5 [==============================] - 142s 28s/step - loss: 0.3853 - accuracy: 0.8361 - val_loss: 0.7466 - val_accuracy: 0.6456\n",
            "Epoch 18/20\n",
            "5/5 [==============================] - 142s 28s/step - loss: 0.3823 - accuracy: 0.8370 - val_loss: 0.7652 - val_accuracy: 0.6456\n",
            "Epoch 19/20\n",
            "5/5 [==============================] - 142s 29s/step - loss: 0.3792 - accuracy: 0.8328 - val_loss: 0.7931 - val_accuracy: 0.6456\n",
            "Epoch 20/20\n",
            "5/5 [==============================] - 141s 28s/step - loss: 0.3784 - accuracy: 0.8387 - val_loss: 0.8210 - val_accuracy: 0.6456\n"
          ]
        }
      ]
    },
    {
      "cell_type": "code",
      "metadata": {
        "id": "ZJjsEJXeDdPp"
      },
      "source": [
        "#checking the accuracy\n",
        "test_loss,test_acc=model.evaluate(np.array(X_test),y_test,verbose=5)"
      ],
      "execution_count": null,
      "outputs": []
    },
    {
      "cell_type": "code",
      "metadata": {
        "colab": {
          "base_uri": "https://localhost:8080/"
        },
        "id": "sBM2Yf3GcsaZ",
        "outputId": "1115ac60-8ea1-4046-e6ee-3e122741f54d"
      },
      "source": [
        "test_acc"
      ],
      "execution_count": null,
      "outputs": [
        {
          "output_type": "execute_result",
          "data": {
            "text/plain": [
              "0.6860759258270264"
            ]
          },
          "metadata": {},
          "execution_count": 25
        }
      ]
    },
    {
      "cell_type": "code",
      "metadata": {
        "id": "A3heScrO4Oxy"
      },
      "source": [
        ""
      ],
      "execution_count": null,
      "outputs": []
    }
  ]
}